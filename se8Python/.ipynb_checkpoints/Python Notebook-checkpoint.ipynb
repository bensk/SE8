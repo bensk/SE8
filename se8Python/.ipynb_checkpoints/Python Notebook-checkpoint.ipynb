{
 "cells": [
  {
   "cell_type": "code",
   "execution_count": 1,
   "metadata": {
    "collapsed": false,
    "scrolled": false
   },
   "outputs": [
    {
     "name": "stdout",
     "output_type": "stream",
     "text": [
      "Give a bunch of nameskatie elias andrew sk\n",
      "Give a bunch of adjectivesfat ugly stupid annoying\n",
      "katie is stupid\n",
      "elias is stupid\n",
      "andrew is annoying\n",
      "sk is fat\n"
     ]
    }
   ],
   "source": [
    "import random\n",
    "\n",
    "def madLibs():\n",
    "  names = raw_input(\"Give a bunch of names\").split()\n",
    "  adjectives = raw_input(\"Give a bunch of adjectives\").split()\n",
    "  \n",
    "  for name in names:\n",
    "    print name + \" is \" + random.choice(adjectives)\n",
    "\n",
    "madLibs()\n"
   ]
  },
  {
   "cell_type": "markdown",
   "metadata": {},
   "source": [
    "This is some markdown."
   ]
  }
 ],
 "metadata": {
  "kernelspec": {
   "display_name": "Python 2",
   "language": "python",
   "name": "python2"
  },
  "language_info": {
   "codemirror_mode": {
    "name": "ipython",
    "version": 2
   },
   "file_extension": ".py",
   "mimetype": "text/x-python",
   "name": "python",
   "nbconvert_exporter": "python",
   "pygments_lexer": "ipython2",
   "version": "2.7.10"
  }
 },
 "nbformat": 4,
 "nbformat_minor": 0
}
